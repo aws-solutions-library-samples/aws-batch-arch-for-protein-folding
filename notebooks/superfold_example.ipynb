{
 "cells": [
  {
   "cell_type": "code",
   "execution_count": 5,
   "metadata": {},
   "outputs": [
    {
     "name": "stdout",
     "output_type": "stream",
     "text": [
      "Requirement already satisfied: pip in /home/daines/miniconda3/envs/archon/lib/python3.12/site-packages (24.0)\n",
      "Requirement already satisfied: setuptools in /home/daines/miniconda3/envs/archon/lib/python3.12/site-packages (70.0.0)\n",
      "Requirement already satisfied: wheel in /home/daines/miniconda3/envs/archon/lib/python3.12/site-packages (0.43.0)\n",
      "Note: you may need to restart the kernel to use updated packages.\n",
      "  \u001b[1;31merror\u001b[0m: \u001b[1msubprocess-exited-with-error\u001b[0m\n",
      "  \n",
      "  \u001b[31m×\u001b[0m \u001b[32mGetting requirements to build wheel\u001b[0m did not run successfully.\n",
      "  \u001b[31m│\u001b[0m exit code: \u001b[1;36m1\u001b[0m\n",
      "  \u001b[31m╰─>\u001b[0m \u001b[31m[33 lines of output]\u001b[0m\n",
      "  \u001b[31m   \u001b[0m Traceback (most recent call last):\n",
      "  \u001b[31m   \u001b[0m   File \"/home/daines/miniconda3/envs/archon/lib/python3.12/site-packages/pip/_vendor/pyproject_hooks/_in_process/_in_process.py\", line 353, in <module>\n",
      "  \u001b[31m   \u001b[0m     main()\n",
      "  \u001b[31m   \u001b[0m   File \"/home/daines/miniconda3/envs/archon/lib/python3.12/site-packages/pip/_vendor/pyproject_hooks/_in_process/_in_process.py\", line 335, in main\n",
      "  \u001b[31m   \u001b[0m     json_out['return_val'] = hook(**hook_input['kwargs'])\n",
      "  \u001b[31m   \u001b[0m                              ^^^^^^^^^^^^^^^^^^^^^^^^^^^^\n",
      "  \u001b[31m   \u001b[0m   File \"/home/daines/miniconda3/envs/archon/lib/python3.12/site-packages/pip/_vendor/pyproject_hooks/_in_process/_in_process.py\", line 112, in get_requires_for_build_wheel\n",
      "  \u001b[31m   \u001b[0m     backend = _build_backend()\n",
      "  \u001b[31m   \u001b[0m               ^^^^^^^^^^^^^^^^\n",
      "  \u001b[31m   \u001b[0m   File \"/home/daines/miniconda3/envs/archon/lib/python3.12/site-packages/pip/_vendor/pyproject_hooks/_in_process/_in_process.py\", line 77, in _build_backend\n",
      "  \u001b[31m   \u001b[0m     obj = import_module(mod_path)\n",
      "  \u001b[31m   \u001b[0m           ^^^^^^^^^^^^^^^^^^^^^^^\n",
      "  \u001b[31m   \u001b[0m   File \"/home/daines/miniconda3/envs/archon/lib/python3.12/importlib/__init__.py\", line 90, in import_module\n",
      "  \u001b[31m   \u001b[0m     return _bootstrap._gcd_import(name[level:], package, level)\n",
      "  \u001b[31m   \u001b[0m            ^^^^^^^^^^^^^^^^^^^^^^^^^^^^^^^^^^^^^^^^^^^^^^^^^^^^\n",
      "  \u001b[31m   \u001b[0m   File \"<frozen importlib._bootstrap>\", line 1387, in _gcd_import\n",
      "  \u001b[31m   \u001b[0m   File \"<frozen importlib._bootstrap>\", line 1360, in _find_and_load\n",
      "  \u001b[31m   \u001b[0m   File \"<frozen importlib._bootstrap>\", line 1310, in _find_and_load_unlocked\n",
      "  \u001b[31m   \u001b[0m   File \"<frozen importlib._bootstrap>\", line 488, in _call_with_frames_removed\n",
      "  \u001b[31m   \u001b[0m   File \"<frozen importlib._bootstrap>\", line 1387, in _gcd_import\n",
      "  \u001b[31m   \u001b[0m   File \"<frozen importlib._bootstrap>\", line 1360, in _find_and_load\n",
      "  \u001b[31m   \u001b[0m   File \"<frozen importlib._bootstrap>\", line 1331, in _find_and_load_unlocked\n",
      "  \u001b[31m   \u001b[0m   File \"<frozen importlib._bootstrap>\", line 935, in _load_unlocked\n",
      "  \u001b[31m   \u001b[0m   File \"<frozen importlib._bootstrap_external>\", line 995, in exec_module\n",
      "  \u001b[31m   \u001b[0m   File \"<frozen importlib._bootstrap>\", line 488, in _call_with_frames_removed\n",
      "  \u001b[31m   \u001b[0m   File \"/tmp/pip-build-env-8jn97np3/overlay/lib/python3.12/site-packages/setuptools/__init__.py\", line 16, in <module>\n",
      "  \u001b[31m   \u001b[0m     import setuptools.version\n",
      "  \u001b[31m   \u001b[0m   File \"/tmp/pip-build-env-8jn97np3/overlay/lib/python3.12/site-packages/setuptools/version.py\", line 1, in <module>\n",
      "  \u001b[31m   \u001b[0m     import pkg_resources\n",
      "  \u001b[31m   \u001b[0m   File \"/tmp/pip-build-env-8jn97np3/overlay/lib/python3.12/site-packages/pkg_resources/__init__.py\", line 2172, in <module>\n",
      "  \u001b[31m   \u001b[0m     register_finder(pkgutil.ImpImporter, find_on_path)\n",
      "  \u001b[31m   \u001b[0m                     ^^^^^^^^^^^^^^^^^^^\n",
      "  \u001b[31m   \u001b[0m AttributeError: module 'pkgutil' has no attribute 'ImpImporter'. Did you mean: 'zipimporter'?\n",
      "  \u001b[31m   \u001b[0m \u001b[31m[end of output]\u001b[0m\n",
      "  \n",
      "  \u001b[1;35mnote\u001b[0m: This error originates from a subprocess, and is likely not a problem with pip.\n",
      "\u001b[1;31merror\u001b[0m: \u001b[1msubprocess-exited-with-error\u001b[0m\n",
      "\n",
      "\u001b[31m×\u001b[0m \u001b[32mGetting requirements to build wheel\u001b[0m did not run successfully.\n",
      "\u001b[31m│\u001b[0m exit code: \u001b[1;36m1\u001b[0m\n",
      "\u001b[31m╰─>\u001b[0m See above for output.\n",
      "\n",
      "\u001b[1;35mnote\u001b[0m: This error originates from a subprocess, and is likely not a problem with pip.\n",
      "Note: you may need to restart the kernel to use updated packages.\n"
     ]
    }
   ],
   "source": [
    "%pip install --upgrade pip setuptools wheel\n",
    "%pip install -q -U -r notebook-requirements.txt"
   ]
  },
  {
   "cell_type": "code",
   "execution_count": 1,
   "metadata": {},
   "outputs": [],
   "source": [
    "from attrs import define, field\n",
    "from batchfold.batchfold_job import BatchFoldJob\n",
    "from datetime import datetime\n",
    "import logging\n",
    "import os"
   ]
  },
  {
   "cell_type": "code",
   "execution_count": 2,
   "metadata": {},
   "outputs": [],
   "source": [
    "@define(kw_only=True)\n",
    "class SuperfoldJob(BatchFoldJob):\n",
    "    \"\"\"Superfold Job\"\"\"\n",
    "\n",
    "    input_s3_uri: str\n",
    "    output_s3_uri: str\n",
    "    params: dict = {}\n",
    "    weights_dir: str = \"/database\"\n",
    "    output_dir: str = \"outputs/\"\n",
    "    job_name: str = field(default=\"SuperfoldJob\" + datetime.now().strftime(\"%Y%m%d%s\"))\n",
    "    job_definition_name: str = field(default=\"SuperfoldJobDefinition\")\n",
    "    cpu: int = field(default=4)\n",
    "    memory: int = field(default=16)\n",
    "    gpu: int = field(default=1)\n",
    "\n",
    "    def __attrs_post_init__(self) -> None:\n",
    "        \"\"\"Override default BatchFoldJob command\"\"\"\n",
    "        input_filename = os.path.basename(self.input_s3_uri)\n",
    "\n",
    "        command_list = [f\"-i {self.input_s3_uri}:/opt/superfold/inputs/\"]\n",
    "        command_list.extend([f\"-o outputs/:{self.output_s3_uri}\"])\n",
    "        command_list.extend(\n",
    "            [\n",
    "                \"python /opt/superfold/run_superfold.py\",\n",
    "                f\"/opt/superfold/inputs/{input_filename}\",\n",
    "                f\"--alphafold_weights {self.weights_dir}\",\n",
    "                f\"--out_dir {self.output_dir}\",\n",
    "            ]\n",
    "        )\n",
    "        command_list.extend([f\"{key}=\\'{value}\\'\" for key, value in self.params.items()])\n",
    "        logging.info(f\"Command is \\n{command_list}\")\n",
    "        self.define_container_overrides(command_list, self.cpu, self.memory, self.gpu)\n",
    "        return None\n"
   ]
  },
  {
   "cell_type": "code",
   "execution_count": 4,
   "metadata": {},
   "outputs": [
    {
     "name": "stdout",
     "output_type": "stream",
     "text": [
      "S3 path is s3://archon-iac-nebula-batchfolds3bucket-lxwt2piq2iwo/superfold-experiment-202406071717727382\n"
     ]
    }
   ],
   "source": [
    "import boto3\n",
    "from batchfold.batchfold_environment import BatchFoldEnvironment\n",
    "from batchfold.utils import utils\n",
    "from datetime import datetime\n",
    "import os\n",
    "import json\n",
    "import time\n",
    "from math import ceil\n",
    "\n",
    "# boto3.session.Session(profile_name='myprofile'): \n",
    "# This creates a session using the credentials and configuration \n",
    "# stored under the [myprofile] profile in your \n",
    "# ~/.aws/credentials and ~/.aws/config files.\n",
    "\n",
    "boto_session = boto3.session.Session(profile_name='archon')\n",
    "s3 = boto_session.client(\"s3\")\n",
    "batch_environment = BatchFoldEnvironment(boto_session=boto_session)\n",
    "\n",
    "S3_BUCKET = batch_environment.default_bucket\n",
    "#S3_PREFIX = \"superfold-experiment-\" + datetime.now().strftime(\"%Y%m%d%s\")\n",
    "S3_PREFIX = \"superfold-experiment-202406071717727382\"\n",
    "S3_PATH = os.path.join(\"s3://\", S3_BUCKET, S3_PREFIX)\n",
    "JOB_QUEUE = \"G4dnSpotJobQueue\"\n",
    "print(f\"S3 path is {S3_PATH}\")\n",
    "input_filename = \"test.fa\""
   ]
  },
  {
   "cell_type": "code",
   "execution_count": 5,
   "metadata": {},
   "outputs": [
    {
     "name": "stdout",
     "output_type": "stream",
     "text": [
      "Submitting SuperfoldJob202406111718129597\n"
     ]
    }
   ],
   "source": [
    "MODELS = 4\n",
    "MAX_RECYCLES = 5\n",
    "\n",
    "params = {\n",
    "    \"--models\": MODELS,\n",
    "    \"--max_recycles\": MAX_RECYCLES\n",
    "}\n",
    "\n",
    "\n",
    "superfold_job_name = \"SuperfoldJob\" + datetime.now().strftime(\"%Y%m%d%s\")\n",
    "\n",
    "superfold_job = SuperfoldJob(\n",
    "    boto_session=boto_session,\n",
    "    job_name=superfold_job_name,\n",
    "    input_s3_uri= S3_PATH + \"/\" + input_filename,\n",
    "    output_s3_uri=S3_PATH + \"/\" + superfold_job_name,\n",
    "    params=params,\n",
    ")\n",
    "print(f\"Submitting {superfold_job_name}\")\n",
    "superfold_submission = batch_environment.submit_job(superfold_job, job_queue_name=JOB_QUEUE)\n"
   ]
  },
  {
   "cell_type": "code",
   "execution_count": null,
   "metadata": {},
   "outputs": [],
   "source": []
  }
 ],
 "metadata": {
  "kernelspec": {
   "display_name": "archon",
   "language": "python",
   "name": "python3"
  },
  "language_info": {
   "codemirror_mode": {
    "name": "ipython",
    "version": 3
   },
   "file_extension": ".py",
   "mimetype": "text/x-python",
   "name": "python",
   "nbconvert_exporter": "python",
   "pygments_lexer": "ipython3",
   "version": "3.10.14"
  }
 },
 "nbformat": 4,
 "nbformat_minor": 2
}
